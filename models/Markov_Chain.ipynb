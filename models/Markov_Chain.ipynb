{
 "cells": [
  {
   "cell_type": "code",
   "execution_count": 189,
   "metadata": {},
   "outputs": [],
   "source": [
    "import pandas as pd\n",
    "import numpy as np"
   ]
  },
  {
   "cell_type": "code",
   "execution_count": 190,
   "metadata": {},
   "outputs": [],
   "source": [
    "# Load csv files\n",
    "channel_spending = pd.read_csv(\"../data/channel_spending.csv\")\n",
    "channel = pd.read_csv(\"../data/channel.csv\")\n",
    "customer = pd.read_csv(\"../data/customer.csv\")\n",
    "loan = pd.read_csv(\"../data/loan.csv\")\n",
    "sales_opportunities = pd.read_csv(\"../data/sales_opportunities.csv\")\n",
    "touchpoints = pd.read_csv(\"../data/touchpoints.csv\")"
   ]
  },
  {
   "cell_type": "code",
   "execution_count": 191,
   "metadata": {},
   "outputs": [
    {
     "data": {
      "text/html": [
       "<div>\n",
       "<style scoped>\n",
       "    .dataframe tbody tr th:only-of-type {\n",
       "        vertical-align: middle;\n",
       "    }\n",
       "\n",
       "    .dataframe tbody tr th {\n",
       "        vertical-align: top;\n",
       "    }\n",
       "\n",
       "    .dataframe thead th {\n",
       "        text-align: right;\n",
       "    }\n",
       "</style>\n",
       "<table border=\"1\" class=\"dataframe\">\n",
       "  <thead>\n",
       "    <tr style=\"text-align: right;\">\n",
       "      <th></th>\n",
       "      <th>TouchpointID</th>\n",
       "      <th>CustomerID</th>\n",
       "      <th>ChannelID</th>\n",
       "      <th>Timestamp</th>\n",
       "      <th>ChannelName</th>\n",
       "    </tr>\n",
       "  </thead>\n",
       "  <tbody>\n",
       "    <tr>\n",
       "      <th>0</th>\n",
       "      <td>T00001</td>\n",
       "      <td>C0001</td>\n",
       "      <td>CH03</td>\n",
       "      <td>2023-02-18 00:51:00</td>\n",
       "      <td>Direct</td>\n",
       "    </tr>\n",
       "    <tr>\n",
       "      <th>1</th>\n",
       "      <td>T00002</td>\n",
       "      <td>C0001</td>\n",
       "      <td>CH01</td>\n",
       "      <td>2023-07-17 22:59:00</td>\n",
       "      <td>Paid Search</td>\n",
       "    </tr>\n",
       "    <tr>\n",
       "      <th>2</th>\n",
       "      <td>T00003</td>\n",
       "      <td>C0001</td>\n",
       "      <td>CH03</td>\n",
       "      <td>2024-01-21 06:02:00</td>\n",
       "      <td>Direct</td>\n",
       "    </tr>\n",
       "    <tr>\n",
       "      <th>3</th>\n",
       "      <td>T00004</td>\n",
       "      <td>C0001</td>\n",
       "      <td>CH05</td>\n",
       "      <td>2024-08-07 13:46:00</td>\n",
       "      <td>Phone Call</td>\n",
       "    </tr>\n",
       "    <tr>\n",
       "      <th>4</th>\n",
       "      <td>T00005</td>\n",
       "      <td>C0001</td>\n",
       "      <td>CH02</td>\n",
       "      <td>2024-09-01 13:08:00</td>\n",
       "      <td>Email</td>\n",
       "    </tr>\n",
       "    <tr>\n",
       "      <th>...</th>\n",
       "      <td>...</td>\n",
       "      <td>...</td>\n",
       "      <td>...</td>\n",
       "      <td>...</td>\n",
       "      <td>...</td>\n",
       "    </tr>\n",
       "    <tr>\n",
       "      <th>5572</th>\n",
       "      <td>T04945</td>\n",
       "      <td>C1000</td>\n",
       "      <td>CH04</td>\n",
       "      <td>2023-08-22 20:48:00</td>\n",
       "      <td>Referral</td>\n",
       "    </tr>\n",
       "    <tr>\n",
       "      <th>5573</th>\n",
       "      <td>T04946</td>\n",
       "      <td>C1000</td>\n",
       "      <td>CH03</td>\n",
       "      <td>2023-12-28 07:24:00</td>\n",
       "      <td>Direct</td>\n",
       "    </tr>\n",
       "    <tr>\n",
       "      <th>5574</th>\n",
       "      <td>T04947</td>\n",
       "      <td>C1000</td>\n",
       "      <td>CH04</td>\n",
       "      <td>2024-01-29 10:29:00</td>\n",
       "      <td>Referral</td>\n",
       "    </tr>\n",
       "    <tr>\n",
       "      <th>5575</th>\n",
       "      <td>T04948</td>\n",
       "      <td>C1000</td>\n",
       "      <td>CH01</td>\n",
       "      <td>2024-10-29 19:21:00</td>\n",
       "      <td>Paid Search</td>\n",
       "    </tr>\n",
       "    <tr>\n",
       "      <th>5576</th>\n",
       "      <td>T04949</td>\n",
       "      <td>C1000</td>\n",
       "      <td>CH04</td>\n",
       "      <td>2024-12-11 04:35:00</td>\n",
       "      <td>Referral</td>\n",
       "    </tr>\n",
       "  </tbody>\n",
       "</table>\n",
       "<p>5577 rows × 5 columns</p>\n",
       "</div>"
      ],
      "text/plain": [
       "     TouchpointID CustomerID ChannelID            Timestamp  ChannelName\n",
       "0          T00001      C0001      CH03  2023-02-18 00:51:00       Direct\n",
       "1          T00002      C0001      CH01  2023-07-17 22:59:00  Paid Search\n",
       "2          T00003      C0001      CH03  2024-01-21 06:02:00       Direct\n",
       "3          T00004      C0001      CH05  2024-08-07 13:46:00   Phone Call\n",
       "4          T00005      C0001      CH02  2024-09-01 13:08:00        Email\n",
       "...           ...        ...       ...                  ...          ...\n",
       "5572       T04945      C1000      CH04  2023-08-22 20:48:00     Referral\n",
       "5573       T04946      C1000      CH03  2023-12-28 07:24:00       Direct\n",
       "5574       T04947      C1000      CH04  2024-01-29 10:29:00     Referral\n",
       "5575       T04948      C1000      CH01  2024-10-29 19:21:00  Paid Search\n",
       "5576       T04949      C1000      CH04  2024-12-11 04:35:00     Referral\n",
       "\n",
       "[5577 rows x 5 columns]"
      ]
     },
     "execution_count": 191,
     "metadata": {},
     "output_type": "execute_result"
    }
   ],
   "source": [
    "# Merge touchpoints with channel data for clarity\n",
    "touchpoints = touchpoints.merge(channel, on=\"ChannelID\", how=\"left\")\n",
    "touchpoints"
   ]
  },
  {
   "cell_type": "markdown",
   "metadata": {},
   "source": [
    "### 1. Model the customer journey based on the conditional probabilities"
   ]
  },
  {
   "cell_type": "code",
   "execution_count": 192,
   "metadata": {},
   "outputs": [
    {
     "data": {
      "text/plain": [
       "0.628"
      ]
     },
     "execution_count": 192,
     "metadata": {},
     "output_type": "execute_result"
    }
   ],
   "source": [
    "# Step 1: Create customer journeys (sequences of touchpoints)\n",
    "# Sort by CustomerID and Timestamp to build ordered journeys\n",
    "touchpoints = touchpoints.sort_values(by=[\"CustomerID\", \"Timestamp\"])\n",
    "journeys = touchpoints.groupby(\"CustomerID\")[\"ChannelName\"].apply(list)\n",
    "\n",
    "# Add \"Start\" at the beginning and \"Converted\" at the end for completed conversions\n",
    "# Use \"NoConversion\" for non-converters if needed\n",
    "def add_start_and_end(journey):\n",
    "    # Ensure \"Start\" is at the beginning\n",
    "    journey = [\"Start\"] + journey\n",
    "\n",
    "    # Check if the last element is \"Converted\"\n",
    "    if journey[-1] != \"Converted\":\n",
    "        # If not, append \"NoConversion\" at the end\n",
    "        journey.append(\"NoConversion\")\n",
    "    return journey\n",
    "\n",
    "journeys = journeys.apply(add_start_and_end)\n",
    "\n",
    "# Calculate the baseline conversion rate (i.e., fraction of journeys ending with \"Converted\")\n",
    "baseline_conv_rate = journeys.apply(lambda j: j[-1] == \"Converted\").mean()\n",
    "baseline_conv_rate\n"
   ]
  },
  {
   "cell_type": "markdown",
   "metadata": {},
   "source": [
    "### 2. Simulate the conversion of users based on the probability matrix to obtain the conversion rates of the entire system"
   ]
  },
  {
   "cell_type": "code",
   "execution_count": 193,
   "metadata": {},
   "outputs": [
    {
     "data": {
      "text/html": [
       "<div>\n",
       "<style scoped>\n",
       "    .dataframe tbody tr th:only-of-type {\n",
       "        vertical-align: middle;\n",
       "    }\n",
       "\n",
       "    .dataframe tbody tr th {\n",
       "        vertical-align: top;\n",
       "    }\n",
       "\n",
       "    .dataframe thead th {\n",
       "        text-align: right;\n",
       "    }\n",
       "</style>\n",
       "<table border=\"1\" class=\"dataframe\">\n",
       "  <thead>\n",
       "    <tr style=\"text-align: right;\">\n",
       "      <th></th>\n",
       "      <th>Start</th>\n",
       "      <th>Direct</th>\n",
       "      <th>Paid Search</th>\n",
       "      <th>Phone Call</th>\n",
       "      <th>Email</th>\n",
       "      <th>Referral</th>\n",
       "      <th>NoConversion</th>\n",
       "      <th>Converted</th>\n",
       "    </tr>\n",
       "  </thead>\n",
       "  <tbody>\n",
       "    <tr>\n",
       "      <th>Start</th>\n",
       "      <td>0</td>\n",
       "      <td>0.198000</td>\n",
       "      <td>0.205000</td>\n",
       "      <td>0.184000</td>\n",
       "      <td>0.208000</td>\n",
       "      <td>0.205000</td>\n",
       "      <td>NaN</td>\n",
       "      <td>NaN</td>\n",
       "    </tr>\n",
       "    <tr>\n",
       "      <th>Direct</th>\n",
       "      <td>0</td>\n",
       "      <td>0.130670</td>\n",
       "      <td>0.158747</td>\n",
       "      <td>0.165227</td>\n",
       "      <td>0.185745</td>\n",
       "      <td>0.171706</td>\n",
       "      <td>0.066955</td>\n",
       "      <td>0.120950</td>\n",
       "    </tr>\n",
       "    <tr>\n",
       "      <th>Paid Search</th>\n",
       "      <td>0</td>\n",
       "      <td>0.135961</td>\n",
       "      <td>0.181281</td>\n",
       "      <td>0.172414</td>\n",
       "      <td>0.152709</td>\n",
       "      <td>0.133005</td>\n",
       "      <td>0.077833</td>\n",
       "      <td>0.146798</td>\n",
       "    </tr>\n",
       "    <tr>\n",
       "      <th>Phone Call</th>\n",
       "      <td>0</td>\n",
       "      <td>0.145709</td>\n",
       "      <td>0.149701</td>\n",
       "      <td>0.173653</td>\n",
       "      <td>0.169661</td>\n",
       "      <td>0.166667</td>\n",
       "      <td>0.076846</td>\n",
       "      <td>0.117764</td>\n",
       "    </tr>\n",
       "    <tr>\n",
       "      <th>Email</th>\n",
       "      <td>0</td>\n",
       "      <td>0.168116</td>\n",
       "      <td>0.172947</td>\n",
       "      <td>0.155556</td>\n",
       "      <td>0.169082</td>\n",
       "      <td>0.142995</td>\n",
       "      <td>0.074396</td>\n",
       "      <td>0.116908</td>\n",
       "    </tr>\n",
       "    <tr>\n",
       "      <th>Referral</th>\n",
       "      <td>0</td>\n",
       "      <td>0.153450</td>\n",
       "      <td>0.154480</td>\n",
       "      <td>0.159629</td>\n",
       "      <td>0.159629</td>\n",
       "      <td>0.161689</td>\n",
       "      <td>0.079300</td>\n",
       "      <td>0.131823</td>\n",
       "    </tr>\n",
       "  </tbody>\n",
       "</table>\n",
       "</div>"
      ],
      "text/plain": [
       "             Start    Direct  Paid Search  Phone Call     Email  Referral  \\\n",
       "Start            0  0.198000     0.205000    0.184000  0.208000  0.205000   \n",
       "Direct           0  0.130670     0.158747    0.165227  0.185745  0.171706   \n",
       "Paid Search      0  0.135961     0.181281    0.172414  0.152709  0.133005   \n",
       "Phone Call       0  0.145709     0.149701    0.173653  0.169661  0.166667   \n",
       "Email            0  0.168116     0.172947    0.155556  0.169082  0.142995   \n",
       "Referral         0  0.153450     0.154480    0.159629  0.159629  0.161689   \n",
       "\n",
       "             NoConversion  Converted  \n",
       "Start                 NaN        NaN  \n",
       "Direct           0.066955   0.120950  \n",
       "Paid Search      0.077833   0.146798  \n",
       "Phone Call       0.076846   0.117764  \n",
       "Email            0.074396   0.116908  \n",
       "Referral         0.079300   0.131823  "
      ]
     },
     "execution_count": 193,
     "metadata": {},
     "output_type": "execute_result"
    }
   ],
   "source": [
    "# Step 2: Create a transition matrix\n",
    "# To build a transition matrix, which represents the probabilities of moving from one state (channel) to another\n",
    "transitions = {}\n",
    "\n",
    "for journey in journeys:\n",
    "    for i in range(len(journey) - 1):\n",
    "        current_state = journey[i]\n",
    "        next_state = journey[i + 1]\n",
    "\n",
    "        if current_state not in transitions:\n",
    "            transitions[current_state] = {} # Initialize if state doesn't exist\n",
    "        if next_state not in transitions[current_state]:\n",
    "            transitions[current_state][next_state] = 0 # Initialize the next state count\n",
    "        transitions[current_state][next_state] += 1\n",
    "\n",
    "# Convert the transition dictionary into a DataFrame (transition matrix)\n",
    "states = list(transitions.keys())\n",
    "transition_matrix = pd.DataFrame(0, index=states, columns=states)\n",
    "\n",
    "for current_state, next_states in transitions.items():\n",
    "    total_transitions = sum(next_states.values()) # Total transitions from this state\n",
    "    for next_state, count in next_states.items():\n",
    "        transition_matrix.loc[current_state, next_state] = count / total_transitions\n",
    "\n",
    "transition_matrix\n"
   ]
  },
  {
   "cell_type": "code",
   "execution_count": 194,
   "metadata": {},
   "outputs": [
    {
     "name": "stdout",
     "output_type": "stream",
     "text": [
      "Total Journeys: 1000\n",
      "Journeys ending in 'Converted': 628\n",
      "Baseline Conversion Rate: 0.628\n"
     ]
    }
   ],
   "source": [
    "# ==============\n",
    "#     DEBUG\n",
    "# ==============\n",
    "print(\"Total Journeys:\", len(journeys))\n",
    "print(\"Journeys ending in 'Converted':\", sum(journey[-1] == \"Converted\" for journey in journeys))\n",
    "print(\"Baseline Conversion Rate:\", baseline_conv_rate)"
   ]
  },
  {
   "cell_type": "code",
   "execution_count": 195,
   "metadata": {},
   "outputs": [
    {
     "name": "stdout",
     "output_type": "stream",
     "text": [
      "Transition Matrix Shape: (6, 8)\n",
      "Transition Matrix Columns: ['Start', 'Direct', 'Paid Search', 'Phone Call', 'Email', 'Referral', 'NoConversion', 'Converted']\n",
      "Transition Matrix Rows: ['Start', 'Direct', 'Paid Search', 'Phone Call', 'Email', 'Referral']\n"
     ]
    }
   ],
   "source": [
    "print(\"Transition Matrix Shape:\", transition_matrix.shape)\n",
    "print(\"Transition Matrix Columns:\", transition_matrix.columns.tolist())\n",
    "print(\"Transition Matrix Rows:\", transition_matrix.index.tolist())"
   ]
  },
  {
   "cell_type": "markdown",
   "metadata": {},
   "source": [
    "### 3. Understand the contribution of every channel by removing each of them from the system and re-calculating the conversions, known as the Removal Effect"
   ]
  },
  {
   "cell_type": "code",
   "execution_count": 196,
   "metadata": {},
   "outputs": [
    {
     "name": "stderr",
     "output_type": "stream",
     "text": [
      "/var/folders/sl/1mdv9dys2gs9j2lr3pw7f3sm0000gn/T/ipykernel_40849/278135391.py:12: DeprecationWarning: In a future version, `df.iloc[:, i] = newvals` will attempt to set the values inplace instead of always setting a new array. To retain the old behavior, use either `df[df.columns[i]] = newvals` or, if columns are non-unique, `df.isetitem(i, newvals)`\n",
      "  temp_matrix.loc[:, channel_to_remove] = 0\n",
      "/var/folders/sl/1mdv9dys2gs9j2lr3pw7f3sm0000gn/T/ipykernel_40849/278135391.py:19: DeprecationWarning: In a future version, `df.iloc[:, i] = newvals` will attempt to set the values inplace instead of always setting a new array. To retain the old behavior, use either `df[df.columns[i]] = newvals` or, if columns are non-unique, `df.isetitem(i, newvals)`\n",
      "  temp_matrix.loc[:, \"NoConversion\"] = 0  # Ensure no incoming transition is removed from \"NoConversion\"\n",
      "/var/folders/sl/1mdv9dys2gs9j2lr3pw7f3sm0000gn/T/ipykernel_40849/278135391.py:12: DeprecationWarning: In a future version, `df.iloc[:, i] = newvals` will attempt to set the values inplace instead of always setting a new array. To retain the old behavior, use either `df[df.columns[i]] = newvals` or, if columns are non-unique, `df.isetitem(i, newvals)`\n",
      "  temp_matrix.loc[:, channel_to_remove] = 0\n",
      "/var/folders/sl/1mdv9dys2gs9j2lr3pw7f3sm0000gn/T/ipykernel_40849/278135391.py:19: DeprecationWarning: In a future version, `df.iloc[:, i] = newvals` will attempt to set the values inplace instead of always setting a new array. To retain the old behavior, use either `df[df.columns[i]] = newvals` or, if columns are non-unique, `df.isetitem(i, newvals)`\n",
      "  temp_matrix.loc[:, \"NoConversion\"] = 0  # Ensure no incoming transition is removed from \"NoConversion\"\n",
      "/var/folders/sl/1mdv9dys2gs9j2lr3pw7f3sm0000gn/T/ipykernel_40849/278135391.py:12: DeprecationWarning: In a future version, `df.iloc[:, i] = newvals` will attempt to set the values inplace instead of always setting a new array. To retain the old behavior, use either `df[df.columns[i]] = newvals` or, if columns are non-unique, `df.isetitem(i, newvals)`\n",
      "  temp_matrix.loc[:, channel_to_remove] = 0\n",
      "/var/folders/sl/1mdv9dys2gs9j2lr3pw7f3sm0000gn/T/ipykernel_40849/278135391.py:19: DeprecationWarning: In a future version, `df.iloc[:, i] = newvals` will attempt to set the values inplace instead of always setting a new array. To retain the old behavior, use either `df[df.columns[i]] = newvals` or, if columns are non-unique, `df.isetitem(i, newvals)`\n",
      "  temp_matrix.loc[:, \"NoConversion\"] = 0  # Ensure no incoming transition is removed from \"NoConversion\"\n",
      "/var/folders/sl/1mdv9dys2gs9j2lr3pw7f3sm0000gn/T/ipykernel_40849/278135391.py:12: DeprecationWarning: In a future version, `df.iloc[:, i] = newvals` will attempt to set the values inplace instead of always setting a new array. To retain the old behavior, use either `df[df.columns[i]] = newvals` or, if columns are non-unique, `df.isetitem(i, newvals)`\n",
      "  temp_matrix.loc[:, channel_to_remove] = 0\n",
      "/var/folders/sl/1mdv9dys2gs9j2lr3pw7f3sm0000gn/T/ipykernel_40849/278135391.py:19: DeprecationWarning: In a future version, `df.iloc[:, i] = newvals` will attempt to set the values inplace instead of always setting a new array. To retain the old behavior, use either `df[df.columns[i]] = newvals` or, if columns are non-unique, `df.isetitem(i, newvals)`\n",
      "  temp_matrix.loc[:, \"NoConversion\"] = 0  # Ensure no incoming transition is removed from \"NoConversion\"\n",
      "/var/folders/sl/1mdv9dys2gs9j2lr3pw7f3sm0000gn/T/ipykernel_40849/278135391.py:12: DeprecationWarning: In a future version, `df.iloc[:, i] = newvals` will attempt to set the values inplace instead of always setting a new array. To retain the old behavior, use either `df[df.columns[i]] = newvals` or, if columns are non-unique, `df.isetitem(i, newvals)`\n",
      "  temp_matrix.loc[:, channel_to_remove] = 0\n",
      "/var/folders/sl/1mdv9dys2gs9j2lr3pw7f3sm0000gn/T/ipykernel_40849/278135391.py:19: DeprecationWarning: In a future version, `df.iloc[:, i] = newvals` will attempt to set the values inplace instead of always setting a new array. To retain the old behavior, use either `df[df.columns[i]] = newvals` or, if columns are non-unique, `df.isetitem(i, newvals)`\n",
      "  temp_matrix.loc[:, \"NoConversion\"] = 0  # Ensure no incoming transition is removed from \"NoConversion\"\n"
     ]
    },
    {
     "data": {
      "text/plain": [
       "{'Direct': 1.0,\n",
       " 'Paid Search': 1.0,\n",
       " 'Phone Call': 1.0,\n",
       " 'Email': 1.0,\n",
       " 'Referral': 1.0}"
      ]
     },
     "execution_count": 196,
     "metadata": {},
     "output_type": "execute_result"
    }
   ],
   "source": [
    "# Step 3: Calculate the removal effect of each channel\n",
    "channels = [state for state in states if state not in [\"Start\", \"Converted\", \"NoConversion\"]]\n",
    "removal_effects = {}\n",
    "\n",
    "for channel_to_remove in channels:\n",
    "    # Make a copy of the transition matrix to modify\n",
    "    temp_matrix = transition_matrix.copy()\n",
    "    \n",
    "    # Remove the channel by zeroing out its row (outgoing transitions)\n",
    "    # and its column (incoming transitions), but keep \"Start\" and \"NoConversion\"\n",
    "    temp_matrix.loc[channel_to_remove, :] = 0\n",
    "    temp_matrix.loc[:, channel_to_remove] = 0\n",
    "\n",
    "    # Ensure that \"Start\" and \"NoConversion\" are still properly connected\n",
    "    temp_matrix.loc[\"Start\", :] = 0  # Ensure no transition from \"Start\" is removed\n",
    "    temp_matrix.loc[:, \"Start\"] = 0  # Ensure no incoming transition is removed from \"Start\"\n",
    "    \n",
    "    temp_matrix.loc[\"NoConversion\", :] = 0  # Ensure \"NoConversion\" isn't removed\n",
    "    temp_matrix.loc[:, \"NoConversion\"] = 0  # Ensure no incoming transition is removed from \"NoConversion\"\n",
    "\n",
    "    # Build a full state space (make sure rows and columns are identical)\n",
    "    full_states = temp_matrix.index.union(temp_matrix.columns)\n",
    "    temp_matrix = temp_matrix.reindex(index=full_states, columns=full_states, fill_value=0)\n",
    "\n",
    "    # Initialize a probability vector where all probability starts at \"Start\"\n",
    "    probabilities = pd.Series(0, index=full_states)\n",
    "    probabilities[\"Start\"] = 1\n",
    "\n",
    "    # Iterate the chain to let probabilities converge (increase iterations if needed)\n",
    "    for _ in range(1000):\n",
    "        probabilities = temp_matrix.dot(probabilities)\n",
    "\n",
    "    # Get the conversion probability after removal\n",
    "    removal_conv_rate = probabilities.get(\"Converted\", 0)\n",
    "\n",
    "    # Calculate removal effect as the relative drop in conversion rate\n",
    "    removal_effect = 1 - (removal_conv_rate / baseline_conv_rate) if baseline_conv_rate > 0 else np.nan\n",
    "    removal_effects[channel_to_remove] = removal_effect\n",
    "\n",
    "removal_effects"
   ]
  },
  {
   "cell_type": "code",
   "execution_count": 197,
   "metadata": {},
   "outputs": [
    {
     "data": {
      "text/plain": [
       "{'Direct': 20.0,\n",
       " 'Paid Search': 20.0,\n",
       " 'Phone Call': 20.0,\n",
       " 'Email': 20.0,\n",
       " 'Referral': 20.0}"
      ]
     },
     "execution_count": 197,
     "metadata": {},
     "output_type": "execute_result"
    }
   ],
   "source": [
    "# Step 4: Allocate weights from removal effects\n",
    "# Compute channel weights by normalizing the removal effects:\n",
    "total_effect = sum(removal_effects.values())\n",
    "if total_effect > 0:\n",
    "    channel_weights = {ch: (eff / total_effect)*100 for ch, eff in removal_effects.items()}\n",
    "else:\n",
    "    print(\"Warning: Total removal effect is zero, check transition matrix!\")\n",
    "    channel_weights = {ch: 0 for ch in removal_effects}\n",
    "    \n",
    "channel_weights"
   ]
  },
  {
   "cell_type": "markdown",
   "metadata": {},
   "source": [
    "https://medium.com/@bhaskarammu/a-machine-learning-approach-to-marketing-attribution-601ca22ac8bd"
   ]
  }
 ],
 "metadata": {
  "kernelspec": {
   "display_name": "base",
   "language": "python",
   "name": "python3"
  },
  "language_info": {
   "codemirror_mode": {
    "name": "ipython",
    "version": 3
   },
   "file_extension": ".py",
   "mimetype": "text/x-python",
   "name": "python",
   "nbconvert_exporter": "python",
   "pygments_lexer": "ipython3",
   "version": "3.10.9"
  }
 },
 "nbformat": 4,
 "nbformat_minor": 2
}
